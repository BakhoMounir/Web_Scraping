{
 "cells": [
  {
   "cell_type": "markdown",
   "metadata": {},
   "source": [
    "Task 1"
   ]
  },
  {
   "cell_type": "code",
   "execution_count": 166,
   "metadata": {},
   "outputs": [],
   "source": [
    "from bs4 import BeautifulSoup\n",
    "import requests\n",
    "import csv\n",
    "import json\n",
    "import re"
   ]
  },
  {
   "cell_type": "code",
   "execution_count": 167,
   "metadata": {},
   "outputs": [],
   "source": [
    "url = \"https://www.baraasallout.com/test.html\"\n",
    "page = requests.get(url)\n",
    "\n",
    "soup = BeautifulSoup(page.text,\"html\")"
   ]
  },
  {
   "cell_type": "code",
   "execution_count": 168,
   "metadata": {},
   "outputs": [],
   "source": [
    "headers=soup.findAll([\"h1\",\"h2\"])\n",
    "paragraphs_and_lists = soup.findAll([\"p\",\"li\"])"
   ]
  },
  {
   "cell_type": "code",
   "execution_count": 169,
   "metadata": {},
   "outputs": [],
   "source": [
    "with open(\"Extract_Text_Data.csv\", \"w\", encoding=\"utf-8\", newline=\"\") as csvFile:  \n",
    "    writer = csv.writer(csvFile)\n",
    "    writer.writerow([\"type\", \"content\"]) \n",
    "    \n",
    "   \n",
    "    for header in headers:\n",
    "        writer.writerow([\"header\", header.text.strip()])\n",
    "    \n",
    "    \n",
    "    for item in paragraphs_and_lists:\n",
    "        if item.name == \"p\":  \n",
    "            writer.writerow([\"paragraph\", item.text.strip()]) \n",
    "        else:\n",
    "            writer.writerow([\"list item\", item.text.strip()])  \n"
   ]
  },
  {
   "cell_type": "markdown",
   "metadata": {},
   "source": [
    "Task 2 "
   ]
  },
  {
   "cell_type": "code",
   "execution_count": 170,
   "metadata": {},
   "outputs": [],
   "source": [
    "rows = soup.findAll(\"tr\")\n",
    "\n",
    "\n",
    "with open(\"Extract_Table_Data.csv\", \"w\", encoding=\"utf-8\", newline=\"\") as table:\n",
    "    writer = csv.writer(table)\n",
    "\n",
    "   \n",
    "    for row in rows:\n",
    "       \n",
    "        cells = row.find_all([\"td\", \"th\"])\n",
    "        row_data = [cell.text.strip() for cell in cells]  \n",
    "        writer.writerow(row_data)"
   ]
  },
  {
   "cell_type": "markdown",
   "metadata": {},
   "source": [
    "Task 3"
   ]
  },
  {
   "cell_type": "code",
   "execution_count": 171,
   "metadata": {},
   "outputs": [],
   "source": [
    "book_cards = soup.find_all('div', attrs={\"style\": lambda value: value and 'border' in value and 'padding' in value})\n",
    "books_info = []\n",
    "\n",
    "def clean_text(text):\n",
    "    text = text.replace(\"\\u00a3\", \"\").replace(\"\\u2714\", \"\").strip()\n",
    "    text = re.sub(r'[^\\w\\s]', '', text)\n",
    "    return text\n",
    "\n",
    "for card in book_cards:\n",
    "    title_tag = card.find('strong')\n",
    "    book_title = clean_text(title_tag.text) if title_tag else \"Unknown\"\n",
    "\n",
    "    price_tag = card.find('p', attrs={\"style\": lambda style: style and \"color: green\" in style})\n",
    "    price = clean_text(price_tag.text) if price_tag else \"N/A\"\n",
    "\n",
    "    stock_info = card.find_all('p')[-1].text if card.find_all('p') else \"N/A\"\n",
    "    stock_info_clean = clean_text(stock_info)\n",
    "\n",
    "    btn = card.find('button')\n",
    "    button_text = clean_text(btn.text) if btn else \"Add to Basket\"\n",
    "\n",
    "    books_info.append({\n",
    "        \"Book Title\": book_title,\n",
    "        \"Price\": price,\n",
    "        \"Stock Availability\": stock_info_clean,\n",
    "        \"Button Text\": button_text\n",
    "    })\n",
    "\n",
    "with open('Product_Information.json', 'w', encoding=\"utf-8\") as bookfile:\n",
    "    json.dump(books_info, bookfile, indent=4)\n"
   ]
  },
  {
   "cell_type": "markdown",
   "metadata": {},
   "source": [
    "Task 4"
   ]
  },
  {
   "cell_type": "code",
   "execution_count": 172,
   "metadata": {},
   "outputs": [],
   "source": [
    "\n",
    "form_data = []\n",
    "\n",
    "forms = soup.find_all('form')\n",
    "\n",
    "for form in forms:\n",
    "    inputs = form.find_all('input')\n",
    "    for input_tag in inputs:\n",
    "        field_info = {\n",
    "            \"Field Name\": input_tag.get('name', \"N/A\"),\n",
    "            \"Input Type\": input_tag.get('type', \"N/A\"),\n",
    "            \"Default Value\": input_tag.get('value', None)\n",
    "        }\n",
    "        form_data.append(field_info)\n",
    "\n",
    "with open('Form_Input_Data.json', 'w', encoding=\"utf-8\") as output_file:\n",
    "    json.dump(form_data, output_file, indent=4)\n",
    "\n"
   ]
  },
  {
   "cell_type": "markdown",
   "metadata": {},
   "source": [
    "Task 5"
   ]
  },
  {
   "cell_type": "code",
   "execution_count": 173,
   "metadata": {},
   "outputs": [],
   "source": [
    "links_data = []\n",
    "for a_tag in soup.find_all('a', href=True):\n",
    "    link = {\n",
    "        \"text\": a_tag.text,\n",
    "        \"href\": a_tag['href']\n",
    "    }\n",
    "    links_data.append(link)\n",
    "\n",
    "\n",
    "iframe_tag = soup.find('iframe', src=True)\n",
    "video_data = {}\n",
    "if iframe_tag:\n",
    "    video_data['src'] = iframe_tag['src']\n",
    "\n",
    "\n",
    "output_data = {\n",
    "    \"hyperlinks\": links_data,\n",
    "    \"video_link\": video_data\n",
    "}\n",
    "\n",
    "\n",
    "with open('extracted_links_data.json', 'w') as file:\n",
    "    json.dump(output_data, file, indent=4)"
   ]
  },
  {
   "cell_type": "markdown",
   "metadata": {},
   "source": [
    "Task 6"
   ]
  },
  {
   "cell_type": "code",
   "execution_count": 174,
   "metadata": {},
   "outputs": [],
   "source": [
    "products_data = []\n",
    "for product in soup.find_all('div', class_='product-card'):\n",
    "    product_id = product.get('data-id')\n",
    "    name_tag = product.find('p', class_='name')\n",
    "    price_tag = product.find('p', class_='price', style='display: none;')\n",
    "    colors_tag = product.find('p', class_='colors')\n",
    "\n",
    "    name = name_tag.text if name_tag else 'N/A'\n",
    "    price = price_tag.text if price_tag else 'N/A'\n",
    "    colors = colors_tag.text.replace('Available colors: ', '') if colors_tag else 'N/A'\n",
    "\n",
    "    product_info = {\n",
    "        'id': product_id,\n",
    "        'name': name,\n",
    "        'price': price,\n",
    "        'colors': colors\n",
    "    }\n",
    "    products_data.append(product_info)\n",
    "\n",
    "with open('extracted_products_data.json', 'w') as file:\n",
    "    json.dump(products_data, file, indent=4)\n"
   ]
  }
 ],
 "metadata": {
  "kernelspec": {
   "display_name": "Python 3",
   "language": "python",
   "name": "python3"
  },
  "language_info": {
   "codemirror_mode": {
    "name": "ipython",
    "version": 3
   },
   "file_extension": ".py",
   "mimetype": "text/x-python",
   "name": "python",
   "nbconvert_exporter": "python",
   "pygments_lexer": "ipython3",
   "version": "3.12.5"
  }
 },
 "nbformat": 4,
 "nbformat_minor": 2
}
